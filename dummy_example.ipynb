{
 "cells": [
  {
   "cell_type": "code",
   "execution_count": 1,
   "id": "45abf4cc",
   "metadata": {},
   "outputs": [],
   "source": [
    "from src import strtree"
   ]
  },
  {
   "cell_type": "markdown",
   "id": "b2705c25-c6c5-4a22-87e7-e32951dbd225",
   "metadata": {},
   "source": [
    "# One-class classification"
   ]
  },
  {
   "cell_type": "code",
   "execution_count": 2,
   "id": "22fc6129",
   "metadata": {},
   "outputs": [],
   "source": [
    "strings = ['Samsung X-500', 'Samsung SM-10', 'Samsung X-1100', 'Samsung F-10', 'Samsung X-2200',\n",
    "       'AB Nokia 1', 'DG Nokia 2', 'THGF Nokia 3', 'SFSD Nokia 4', 'Nokia XG', 'Nokia YO']"
   ]
  },
  {
   "cell_type": "code",
   "execution_count": 3,
   "id": "09960da3",
   "metadata": {},
   "outputs": [],
   "source": [
    "labels = [1, 0, 1, 0, 1, 1, 1, 1, 1, 0, 0]"
   ]
  },
  {
   "cell_type": "code",
   "execution_count": 4,
   "id": "87b107d1",
   "metadata": {},
   "outputs": [
    {
     "name": "stdout",
     "output_type": "stream",
     "text": [
      "Total: 11 strings with 7 positive labels\n",
      "\n",
      "Start processing another 11 of strings with 7 positive labels.\n",
      "Current pattern=\"\". N matches: 11, Precision=0.6363636363636364, Recall=1.0\n",
      "Best pattern=\".+\\d$\". N matches: 9, Precision=0.7777777777777778, Recall=1.0\n",
      "Best pattern=\".+a.+\\d$\". N matches: 9, Precision=0.7777777777777778, Recall=1.0\n",
      "Best pattern=\".+ .+a.+\\d$\". N matches: 4, Precision=1.0, Recall=0.5714285714285714\n",
      "Last pattern was saved\n",
      "\n",
      "Start processing another 7 of strings with 3 positive labels.\n",
      "Current pattern=\"\". N matches: 7, Precision=0.42857142857142855, Recall=1.0\n",
      "Best pattern=\".+0.+\". N matches: 3, Precision=1.0, Recall=1.0\n",
      "Last pattern was saved\n",
      "\n",
      "Finished\n"
     ]
    }
   ],
   "source": [
    "tree = strtree.StringTree()\n",
    "tree.build(strings, labels, min_precision=0.9, min_token_length=1, verbose=True)"
   ]
  },
  {
   "cell_type": "markdown",
   "id": "e4f21130-9628-4549-a752-7a2d260684bf",
   "metadata": {},
   "source": [
    "All found patterns:"
   ]
  },
  {
   "cell_type": "code",
   "execution_count": 5,
   "id": "03f50e85",
   "metadata": {},
   "outputs": [
    {
     "data": {
      "text/plain": [
       "[PatternNode(\".+ .+a.+\\d$\", right=None, left=PatternNode(.+0.+), n_strings=11, n_matches=4, precision=1.0, recall=0.5714285714285714),\n",
       " PatternNode(\".+0.+\", right=None, left=None, n_strings=7, n_matches=3, precision=1.0, recall=1.0)]"
      ]
     },
     "execution_count": 5,
     "metadata": {},
     "output_type": "execute_result"
    }
   ],
   "source": [
    "tree.leaves"
   ]
  },
  {
   "cell_type": "markdown",
   "id": "6fc92f86-1ada-4832-8329-a245db593626",
   "metadata": {},
   "source": [
    "Filter out strings not matching the tree:"
   ]
  },
  {
   "cell_type": "code",
   "execution_count": 6,
   "id": "281681b2",
   "metadata": {},
   "outputs": [
    {
     "data": {
      "text/plain": [
       "['Nokia A-100']"
      ]
     },
     "execution_count": 6,
     "metadata": {},
     "output_type": "execute_result"
    }
   ],
   "source": [
    "tree.filter(['Nokia A-100', 'String Outside Of Dataset'])"
   ]
  },
  {
   "cell_type": "markdown",
   "id": "8ce2654f-c781-4597-8353-fde8949a2777",
   "metadata": {},
   "source": [
    "Get the matching flags for each string:"
   ]
  },
  {
   "cell_type": "code",
   "execution_count": 7,
   "id": "e93d04e3",
   "metadata": {},
   "outputs": [
    {
     "data": {
      "text/plain": [
       "[1, 0]"
      ]
     },
     "execution_count": 7,
     "metadata": {},
     "output_type": "execute_result"
    }
   ],
   "source": [
    "tree.match(['Nokia A-100', 'String Outside Of Dataset'])"
   ]
  },
  {
   "cell_type": "markdown",
   "id": "74f2f146-19fa-46ff-9b6f-16dbdd97d8e7",
   "metadata": {},
   "source": [
    "Get the precision score for given strings and labels:"
   ]
  },
  {
   "cell_type": "code",
   "execution_count": 8,
   "id": "a336107b",
   "metadata": {},
   "outputs": [
    {
     "data": {
      "text/plain": [
       "1.0"
      ]
     },
     "execution_count": 8,
     "metadata": {},
     "output_type": "execute_result"
    }
   ],
   "source": [
    "tree.precision_score(strings, labels)"
   ]
  },
  {
   "cell_type": "markdown",
   "id": "ddbff48a-9deb-41d2-812d-6f59fba47e50",
   "metadata": {},
   "source": [
    "Get the recall score for given strings and labels:"
   ]
  },
  {
   "cell_type": "code",
   "execution_count": 9,
   "id": "3c0f67c2",
   "metadata": {},
   "outputs": [
    {
     "data": {
      "text/plain": [
       "1.0"
      ]
     },
     "execution_count": 9,
     "metadata": {},
     "output_type": "execute_result"
    }
   ],
   "source": [
    "tree.recall_score(strings, labels)"
   ]
  },
  {
   "cell_type": "markdown",
   "id": "93d48b32-5240-4f1b-8eb9-a5ef153594e8",
   "metadata": {},
   "source": [
    "Predict labels for given strings:"
   ]
  },
  {
   "cell_type": "code",
   "execution_count": 10,
   "id": "091441b8-de27-4564-84c7-3638e27e2f3b",
   "metadata": {},
   "outputs": [
    {
     "data": {
      "text/plain": [
       "[1, None]"
      ]
     },
     "execution_count": 10,
     "metadata": {},
     "output_type": "execute_result"
    }
   ],
   "source": [
    "tree.predict_label(['Nokia A-100', 'String Outside Of Dataset'])"
   ]
  },
  {
   "cell_type": "markdown",
   "id": "c4fb1679-4746-40c9-aa7a-96059894d1c5",
   "metadata": {},
   "source": [
    "Find all regular expressions for a given label:"
   ]
  },
  {
   "cell_type": "code",
   "execution_count": 12,
   "id": "30089819-1327-4f24-8085-13ba1b16c65f",
   "metadata": {},
   "outputs": [
    {
     "data": {
      "text/plain": [
       "array([PatternNode(\".+ .+a.+\\d$\", right=None, left=PatternNode(.+0.+), n_strings=11, n_matches=4, precision=1.0, recall=0.5714285714285714),\n",
       "       PatternNode(\".+0.+\", right=None, left=None, n_strings=7, n_matches=3, precision=1.0, recall=1.0)],\n",
       "      dtype=object)"
      ]
     },
     "execution_count": 12,
     "metadata": {},
     "output_type": "execute_result"
    }
   ],
   "source": [
    "tree.get_nodes_by_label(1)"
   ]
  },
  {
   "cell_type": "markdown",
   "id": "4c31f778-c390-4aa5-8e79-ac7b8e033d27",
   "metadata": {},
   "source": [
    "# Multi-class classification"
   ]
  },
  {
   "cell_type": "code",
   "execution_count": 13,
   "id": "8f510b21-b65e-4ae9-b34b-e5622c5a2d23",
   "metadata": {},
   "outputs": [],
   "source": [
    "strings = ['Admiral', 'Apple', 'Age',\n",
    "           'Bee', 'Bubble', 'Butter',\n",
    "           'Color', 'Climate', 'CPU']\n",
    "\n",
    "labels = [0, 0, 0,\n",
    "          1, 1, 1,\n",
    "          2, 2, 2]"
   ]
  },
  {
   "cell_type": "code",
   "execution_count": 14,
   "id": "5583620a-e3b6-432e-98a6-ff741b707e0d",
   "metadata": {},
   "outputs": [
    {
     "name": "stdout",
     "output_type": "stream",
     "text": [
      "Total: 9 strings with 9 positive labels\n",
      "\n",
      "Start processing another 9 of strings with 3 classes.\n",
      "Current pattern=\"\". N matches: 9, Precision=[0.3333333333333333, 0.3333333333333333, 0.3333333333333333], Recall=[1.0, 1.0, 1.0]\n",
      "Best pattern=\"^A.+\". N matches: 3, Precision=[1.0, 0.0, 0.0], Recall=[1.0, 0.0, 0.0]\n",
      "Last pattern was saved\n",
      "\n",
      "Start processing another 6 of strings with 3 classes.\n",
      "Current pattern=\"\". N matches: 6, Precision=[0.0, 0.5, 0.5], Recall=[0.0, 1.0, 1.0]\n",
      "Best pattern=\"^B.+\". N matches: 3, Precision=[0.0, 1.0, 0.0], Recall=[0.0, 1.0, 0.0]\n",
      "Last pattern was saved\n",
      "\n",
      "Start processing another 3 of strings with 3 classes.\n",
      "Current pattern=\"\". N matches: 3, Precision=[0.0, 0.0, 1.0], Recall=[0.0, 0.0, 1.0]\n",
      "Best pattern=\"^C.+\". N matches: 3, Precision=[0.0, 0.0, 1.0], Recall=[0.0, 0.0, 1.0]\n",
      "Last pattern was saved\n",
      "\n",
      "Finished\n"
     ]
    }
   ],
   "source": [
    "tree = strtree.StringTree()\n",
    "tree.build(strings, labels, min_precision=0.9, min_token_length=1, verbose=True)"
   ]
  },
  {
   "cell_type": "markdown",
   "id": "b9f42c12-c4cd-4a06-96a0-29255f64e302",
   "metadata": {},
   "source": [
    "All found patterns:"
   ]
  },
  {
   "cell_type": "code",
   "execution_count": 15,
   "id": "5aada727-5d23-460f-9eec-016289fe8d83",
   "metadata": {},
   "outputs": [
    {
     "data": {
      "text/plain": [
       "[PatternNode(\"^A.+\", right=None, left=PatternNode(^B.+), n_strings=9, n_matches=3, precision=[1.0, 0.0, 0.0], recall=[1.0, 0.0, 0.0]),\n",
       " PatternNode(\"^B.+\", right=None, left=PatternNode(^C.+), n_strings=6, n_matches=3, precision=[0.0, 1.0, 0.0], recall=[0.0, 1.0, 0.0]),\n",
       " PatternNode(\"^C.+\", right=None, left=None, n_strings=3, n_matches=3, precision=[0.0, 0.0, 1.0], recall=[0.0, 0.0, 1.0])]"
      ]
     },
     "execution_count": 15,
     "metadata": {},
     "output_type": "execute_result"
    }
   ],
   "source": [
    "tree.leaves"
   ]
  },
  {
   "cell_type": "markdown",
   "id": "37b778a0-3366-4388-903a-509512c4a5ff",
   "metadata": {},
   "source": [
    "Filter out strings not matching the tree:"
   ]
  },
  {
   "cell_type": "code",
   "execution_count": 16,
   "id": "39c86229-50d0-4fb9-ab5d-15b3ef6644af",
   "metadata": {},
   "outputs": [
    {
     "data": {
      "text/plain": [
       "['Ananas']"
      ]
     },
     "execution_count": 16,
     "metadata": {},
     "output_type": "execute_result"
    }
   ],
   "source": [
    "tree.filter(['Ananas', 'Zeta'])"
   ]
  },
  {
   "cell_type": "markdown",
   "id": "5ec33c8c-4eef-4cba-b930-451133d43a58",
   "metadata": {},
   "source": [
    "Get the matching flags for each string (with nodes where a match was found):"
   ]
  },
  {
   "cell_type": "code",
   "execution_count": 17,
   "id": "dad75f40-d4c5-4351-a211-cae9b1ac1902",
   "metadata": {},
   "outputs": [
    {
     "data": {
      "text/plain": [
       "([1, 0],\n",
       " [PatternNode(\"^A.+\", right=None, left=PatternNode(^B.+), n_strings=9, n_matches=3, precision=[1.0, 0.0, 0.0], recall=[1.0, 0.0, 0.0]),\n",
       "  None])"
      ]
     },
     "execution_count": 17,
     "metadata": {},
     "output_type": "execute_result"
    }
   ],
   "source": [
    "tree.match(['Ananas', 'Zeta'], return_nodes=True)"
   ]
  },
  {
   "cell_type": "markdown",
   "id": "9b0dcb3d-28a9-4ede-8e7a-b6d2cfcb2ed3",
   "metadata": {},
   "source": [
    "Predict labels for given strings:"
   ]
  },
  {
   "cell_type": "code",
   "execution_count": 18,
   "id": "b1637f1b-f74a-451f-b39b-d858f4d4244e",
   "metadata": {},
   "outputs": [
    {
     "data": {
      "text/plain": [
       "([0],\n",
       " [PatternNode(\"^A.+\", right=None, left=PatternNode(^B.+), n_strings=9, n_matches=3, precision=[1.0, 0.0, 0.0], recall=[1.0, 0.0, 0.0])])"
      ]
     },
     "execution_count": 18,
     "metadata": {},
     "output_type": "execute_result"
    }
   ],
   "source": [
    "tree.predict_label(['Ananas'], return_nodes=True)"
   ]
  },
  {
   "cell_type": "markdown",
   "id": "97cfc0ac-4dd2-4ae1-a716-8e72a9396967",
   "metadata": {},
   "source": [
    "Find all regular expressions for a given label:"
   ]
  },
  {
   "cell_type": "code",
   "execution_count": 19,
   "id": "2501b421-6438-4635-8a66-31507b68e689",
   "metadata": {},
   "outputs": [
    {
     "data": {
      "text/plain": [
       "array([PatternNode(\"^A.+\", right=None, left=PatternNode(^B.+), n_strings=9, n_matches=3, precision=[1.0, 0.0, 0.0], recall=[1.0, 0.0, 0.0])],\n",
       "      dtype=object)"
      ]
     },
     "execution_count": 19,
     "metadata": {},
     "output_type": "execute_result"
    }
   ],
   "source": [
    "tree.get_nodes_by_label(0)"
   ]
  }
 ],
 "metadata": {
  "kernelspec": {
   "display_name": "Python 3 (ipykernel)",
   "language": "python",
   "name": "python3"
  },
  "language_info": {
   "codemirror_mode": {
    "name": "ipython",
    "version": 3
   },
   "file_extension": ".py",
   "mimetype": "text/x-python",
   "name": "python",
   "nbconvert_exporter": "python",
   "pygments_lexer": "ipython3",
   "version": "3.11.0"
  }
 },
 "nbformat": 4,
 "nbformat_minor": 5
}
