{
 "cells": [
  {
   "cell_type": "code",
   "execution_count": 1,
   "id": "45abf4cc",
   "metadata": {},
   "outputs": [],
   "source": [
    "from src import strtree"
   ]
  },
  {
   "cell_type": "code",
   "execution_count": 2,
   "id": "22fc6129",
   "metadata": {},
   "outputs": [],
   "source": [
    "STRINGS = ['Samsung X-500', 'Samsung SM-10', 'Samsung X-1100', 'Samsung F-10', 'Samsung X-2200',\n",
    "       'AB Nokia 1', 'DG Nokia 2', 'THGF Nokia 3', 'SFSD Nokia 4', 'Nokia XG', 'Nokia YO']"
   ]
  },
  {
   "cell_type": "code",
   "execution_count": 3,
   "id": "09960da3",
   "metadata": {},
   "outputs": [],
   "source": [
    "TARGET = [1, 0, 1, 0, 1, 1, 1, 1, 1, 0, 0]"
   ]
  },
  {
   "cell_type": "code",
   "execution_count": 4,
   "id": "87b107d1",
   "metadata": {},
   "outputs": [
    {
     "name": "stdout",
     "output_type": "stream",
     "text": [
      "Total: 11 strings with 7 positive labels\n",
      "\n",
      "Start processing another 11 of strings with 7 positive labels.\n",
      "Current pattern=\"\". N matches: 11, Precision=0.6363636363636364, Recall=1.0\n",
      "Best pattern=\".+\\d$\". N matches: 9, Precision=0.7777777777777778, Recall=1.0\n",
      "Best pattern=\".+a.+\\d$\". N matches: 9, Precision=0.7777777777777778, Recall=1.0\n",
      "Best pattern=\".+ .+a.+\\d$\". N matches: 4, Precision=1.0, Recall=0.5714285714285714\n",
      "Last pattern was saved\n",
      "\n",
      "Start processing another 7 of strings with 3 positive labels.\n",
      "Current pattern=\"\". N matches: 7, Precision=0.42857142857142855, Recall=1.0\n",
      "Best pattern=\".+0.+\". N matches: 3, Precision=1.0, Recall=1.0\n",
      "Last pattern was saved\n",
      "\n",
      "Finished\n"
     ]
    }
   ],
   "source": [
    "tree = strtree.StringTree()\n",
    "tree.build(STRINGS, TARGET, min_precision=0.9, min_token_length=1, verbose=True)"
   ]
  },
  {
   "cell_type": "code",
   "execution_count": 5,
   "id": "03f50e85",
   "metadata": {},
   "outputs": [
    {
     "data": {
      "text/plain": [
       "[PatternNode(\".+ .+a.+\\d$\", right=None, left=PatternNode(.+0.+), n_strings=11, precision=1.0, recall=0.5714285714285714),\n",
       " PatternNode(\".+0.+\", right=None, left=None, n_strings=7, precision=1.0, recall=1.0)]"
      ]
     },
     "execution_count": 5,
     "metadata": {},
     "output_type": "execute_result"
    }
   ],
   "source": [
    "tree.leaves"
   ]
  },
  {
   "cell_type": "code",
   "execution_count": 6,
   "id": "32990a3a",
   "metadata": {},
   "outputs": [
    {
     "data": {
      "text/plain": [
       "PatternNode(\".+0.+\", right=None, left=None, n_strings=7, precision=1.0, recall=1.0)"
      ]
     },
     "execution_count": 6,
     "metadata": {},
     "output_type": "execute_result"
    }
   ],
   "source": [
    "tree.root.left"
   ]
  },
  {
   "cell_type": "code",
   "execution_count": 7,
   "id": "281681b2",
   "metadata": {},
   "outputs": [
    {
     "data": {
      "text/plain": [
       "['Nokia A-100']"
      ]
     },
     "execution_count": 7,
     "metadata": {},
     "output_type": "execute_result"
    }
   ],
   "source": [
    "tree.filter(['Nokia A-100'])"
   ]
  },
  {
   "cell_type": "code",
   "execution_count": 8,
   "id": "e93d04e3",
   "metadata": {},
   "outputs": [
    {
     "data": {
      "text/plain": [
       "[1]"
      ]
     },
     "execution_count": 8,
     "metadata": {},
     "output_type": "execute_result"
    }
   ],
   "source": [
    "tree.match(['Nokia A-100'])"
   ]
  },
  {
   "cell_type": "code",
   "execution_count": 9,
   "id": "a336107b",
   "metadata": {},
   "outputs": [
    {
     "data": {
      "text/plain": [
       "1.0"
      ]
     },
     "execution_count": 9,
     "metadata": {},
     "output_type": "execute_result"
    }
   ],
   "source": [
    "tree.precision_score(STRINGS, TARGET)"
   ]
  },
  {
   "cell_type": "code",
   "execution_count": 10,
   "id": "3c0f67c2",
   "metadata": {},
   "outputs": [
    {
     "data": {
      "text/plain": [
       "1.0"
      ]
     },
     "execution_count": 10,
     "metadata": {},
     "output_type": "execute_result"
    }
   ],
   "source": [
    "tree.recall_score(STRINGS, TARGET)"
   ]
  }
 ],
 "metadata": {
  "kernelspec": {
   "display_name": "Python 3 (ipykernel)",
   "language": "python",
   "name": "python3"
  },
  "language_info": {
   "codemirror_mode": {
    "name": "ipython",
    "version": 3
   },
   "file_extension": ".py",
   "mimetype": "text/x-python",
   "name": "python",
   "nbconvert_exporter": "python",
   "pygments_lexer": "ipython3",
   "version": "3.11.0"
  }
 },
 "nbformat": 4,
 "nbformat_minor": 5
}
